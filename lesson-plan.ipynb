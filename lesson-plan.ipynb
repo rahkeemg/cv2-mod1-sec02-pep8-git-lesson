{
 "cells": [
  {
   "cell_type": "markdown",
   "metadata": {},
   "source": [
    "### Questions\n",
    "* How to upload to learn? Don't do that..\n",
    "* `git add` and `git commit` combine with `git commit -a`"
   ]
  },
  {
   "cell_type": "markdown",
   "metadata": {},
   "source": [
    "### Objectives\n",
    "YWBAT\n",
    "* define git\n",
    "    * version control system\n",
    "        * allows one to track changes in a project\n",
    "        * simplifies collaboration across teams and users/developers\n",
    "        * is meant to maintain production quality on master branch\n",
    "        * is a great tool for collaboration in the open source community\n",
    "* perform branching and merges in git (remotely)\n",
    "* compare and contrast git commit to git push\n",
    "* explain why pep8 is so important to the python community\n",
    "* modify code to pep8 standards"
   ]
  },
  {
   "cell_type": "markdown",
   "metadata": {},
   "source": [
    "### Outline\n",
    "* Git stuff \n",
    "* Pep-8"
   ]
  },
  {
   "cell_type": "code",
   "execution_count": 1,
   "metadata": {},
   "outputs": [],
   "source": [
    "import pandas as pd\n",
    "import numpy as np\n",
    "\n",
    "import matplotlib.pyplot as plt\n",
    "\n",
    "\"Hello world from R.G\""
   ]
  },
  {
   "cell_type": "markdown",
   "metadata": {},
   "source": [
    "### Let's do git stuff on terminal for the first half of the study group\n",
    "\n",
    "\n",
    "**Things we'll do**\n",
    "- Make a branch of this lesson\n",
    "- Merge the branch with the master branch\n",
    "- Push changes to github and view results"
   ]
  },
  {
   "cell_type": "markdown",
   "metadata": {},
   "source": [
    "# Pep 8 Standards"
   ]
  },
  {
   "cell_type": "code",
   "execution_count": 1,
   "metadata": {},
   "outputs": [
    {
     "data": {
      "text/plain": [
       "8"
      ]
     },
     "execution_count": 1,
     "metadata": {},
     "output_type": "execute_result"
    }
   ],
   "source": [
    "# Fix this coding cell\n",
    "x = 3\n",
    "y = 5\n",
    "x + y"
   ]
  },
  {
   "cell_type": "code",
   "execution_count": 2,
   "metadata": {},
   "outputs": [
    {
     "data": {
      "text/plain": [
       "16"
      ]
     },
     "execution_count": 2,
     "metadata": {},
     "output_type": "execute_result"
    }
   ],
   "source": [
    "# Now this one \n",
    "# camel case thisIsCamelCase\n",
    "# this_is_snake_case\n",
    "# variables/methods/almost everything -> lowercase\n",
    "# classes -> uppercase\n",
    "\n",
    "well_this_is_cool = lambda x: 2*x\n",
    "\n",
    "well_this_is_cool(8)"
   ]
  },
  {
   "cell_type": "code",
   "execution_count": 3,
   "metadata": {},
   "outputs": [
    {
     "name": "stdout",
     "output_type": "stream",
     "text": [
      "False\n"
     ]
    }
   ],
   "source": [
    "## Now also fix this one...\n",
    "whats_in_name = 2\n",
    "montague = 1\n",
    "capulet = 0\n",
    "\n",
    "print(montague + capulet == whats_in_name)"
   ]
  },
  {
   "cell_type": "code",
   "execution_count": 7,
   "metadata": {},
   "outputs": [
    {
     "name": "stdout",
     "output_type": "stream",
     "text": [
      "5\n"
     ]
    }
   ],
   "source": [
    "#time to write functions!...not really, we're pep-8ing some stuff\n",
    "\n",
    "def my_function(a, b, c, d):\n",
    "    return a*b + c - d \n",
    "\n",
    "\n",
    "print(my_function(3, 4, 2, 9))"
   ]
  },
  {
   "cell_type": "markdown",
   "metadata": {},
   "source": [
    "### Let's do some matplotlib stuff real quick, also"
   ]
  },
  {
   "cell_type": "code",
   "execution_count": 1,
   "metadata": {},
   "outputs": [],
   "source": [
    "import numpy as np\n",
    "\n",
    "import matplotlib.pyplot as plt"
   ]
  },
  {
   "cell_type": "code",
   "execution_count": null,
   "metadata": {},
   "outputs": [],
   "source": []
  },
  {
   "cell_type": "markdown",
   "metadata": {},
   "source": [
    "### Assessment\n",
    "\n",
    "What is the purpose of version control?\n",
    "* keep a working file (so it doesn't break)\n",
    "* merge changes after testing\n",
    "* maintains the health of codebase\n",
    "\n",
    "\n",
    "What is pep-8?\n",
    "* formatting guide for python\n",
    "\n",
    "\n",
    "Should we use pep-8? I'm kinda curious what y'all think.\n",
    "* should code be dependent on pep-8 standards?\n",
    "* standards like pep-8 make sense\n",
    "* lines shouldn't be longer than 79 characters"
   ]
  }
 ],
 "metadata": {
  "kernelspec": {
   "display_name": "Python 3",
   "language": "python",
   "name": "python3"
  },
  "language_info": {
   "codemirror_mode": {
    "name": "ipython",
    "version": 3
   },
   "file_extension": ".py",
   "mimetype": "text/x-python",
   "name": "python",
   "nbconvert_exporter": "python",
   "pygments_lexer": "ipython3",
   "version": "3.6.6"
  }
 },
 "nbformat": 4,
 "nbformat_minor": 2
}
